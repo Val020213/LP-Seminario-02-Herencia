{
 "cells": [
  {
   "cell_type": "markdown",
   "metadata": {},
   "source": [
    "# Implementación usando Python"
   ]
  },
  {
   "cell_type": "code",
   "execution_count": 2,
   "metadata": {},
   "outputs": [],
   "source": [
    "class Persona:\n",
    "    def __init__(self, nombre):\n",
    "        self.Nombre = nombre\n",
    "\n",
    "\n",
    "class Plantilla(Persona):\n",
    "    def __init__(self, nombre, salario):\n",
    "        Persona.__init__(self, nombre)\n",
    "        self.Salario = salario\n",
    "    def cobrar_salario(self):\n",
    "        print(\"Cobrando salario\")\n",
    "\n",
    "\n",
    "class Impartidor(Persona):\n",
    "    def __init__(self, nombre, horasImpartirClase):\n",
    "        Persona.__init__(self, nombre)\n",
    "        self.horasImpartirClase = horasImpartirClase\n",
    "    def impartir_clases(self):\n",
    "        print(\"Impartiendo clases\")\n",
    "\n",
    "\n",
    "class Recibidor(Persona):\n",
    "    def __init__(self, nombre, horasRecibirClase):\n",
    "        Persona.__init__(self, nombre) \n",
    "        self.horasRecibirClase = horasRecibirClase\n",
    "\n",
    "    def recibir_clases(self):\n",
    "        print(\"Recibiendo clases\")\n",
    "\n",
    "\n",
    "class Trabajador(Plantilla):\n",
    "    def __init__(self, nombre, salario):\n",
    "        Plantilla.__init__(self, nombre, salario)\n",
    "\n",
    "\n",
    "class Profesor(Trabajador, Impartidor):\n",
    "    def __init__(self, nombre, salario, horasImpartirClase):\n",
    "        Trabajador.__init__(self, nombre, salario)\n",
    "        Impartidor.__init__(self, nombre, horasImpartirClase)\n",
    "    def impartir_clases(self):\n",
    "        print(\"Impartiendo clases como profesor\")\n",
    "\n",
    "class ProfesorAdiestrado(Profesor, Recibidor):\n",
    "    def __init__(self, nombre, salario, horasRecibirClase, horasImpartirClase):\n",
    "        Profesor.__init__(self, nombre, salario, horasImpartirClase)\n",
    "        Recibidor.__init__(self, nombre, horasRecibirClase)\n",
    "    def calcularHorasTotales(self):\n",
    "        return self.horasImpartirClase + self.horasRecibirClase\n",
    "        \n",
    "\n",
    "class Estudiante(Recibidor, Plantilla):\n",
    "    def __init__(self, nombre, salario, horasRecibirClase):\n",
    "        Plantilla.__init__(self, nombre, salario)\n",
    "        Recibidor.__init__(self, nombre, horasRecibirClase)\n",
    "\n",
    "\n",
    "class AlumnoAyudante(Estudiante, Impartidor):\n",
    "    def __init__(self, nombre, salario, horasImpartirClase, horasRecibirClase):\n",
    "        Estudiante.__init__(self, nombre, salario, horasRecibirClase)\n",
    "        Impartidor.__init__(self, nombre, horasImpartirClase)\n",
    "    def calcularHorasTotales(self):\n",
    "        return self.horasImpartirClase + self.horasRecibirClase"
   ]
  },
  {
   "cell_type": "markdown",
   "metadata": {},
   "source": [
    "## Probando la implementación"
   ]
  },
  {
   "cell_type": "code",
   "execution_count": 3,
   "metadata": {},
   "outputs": [
    {
     "name": "stdout",
     "output_type": "stream",
     "text": [
      "Nombre: Profesor 1\n",
      "Impartiendo clases como profesor\n",
      "Nombre: Alumno Ayudante 1\n",
      "Impartiendo clases\n",
      "Las horas clase del profesor Trabajador 1 han aumentado a 1010\n",
      "(<class '__main__.AlumnoAyudante'>, <class '__main__.Estudiante'>, <class '__main__.Recibidor'>, <class '__main__.Plantilla'>, <class '__main__.Impartidor'>, <class '__main__.Persona'>, <class 'object'>)\n",
      "Ayudante es subclase de estudiante? True\n",
      "Ayudante es subclase de impartidor? True\n",
      "Ayudante es subclase de trabajador? False\n",
      "AlumnoAyudante1 recibe 10 horas clase\n",
      "AlumnoAyudante1 imparte 20 horas clase\n",
      "Calculando el total de horas clase de AlumnoAyudante1:  30\n"
     ]
    }
   ],
   "source": [
    "def testImpartirClase(profesor: Profesor):\n",
    "    profesor.impartir_clases() # Impartiendo clase de profesor\n",
    "\n",
    "\n",
    "def testAumentoDeHorasClase(profesor: Profesor):\n",
    "    profesor.horasImpartirClase += 1000\n",
    "    print(\n",
    "        f\"Las horas clase del profesor {profesor.Nombre} han aumentado a {profesor.horasImpartirClase}\"\n",
    "    )\n",
    "\n",
    "    \n",
    "def main():\n",
    "    profesor1 = Profesor(\"Profesor 1\", 1000, 10)\n",
    "    print(f\"Nombre: {profesor1.Nombre}\")\n",
    "    testImpartirClase(profesor1)\n",
    "    \n",
    "    AlumnoAyudante1 = AlumnoAyudante(\"Alumno Ayudante 1\", 1000, 10, 20)\n",
    "    print(f\"Nombre: {AlumnoAyudante1.Nombre}\") #No ocurre error de ambiguedad\n",
    "    \n",
    "    testImpartirClase(AlumnoAyudante1)\n",
    "    trabajador = Trabajador(\"Trabajador 1\", 1000)\n",
    "    trabajador.horasImpartirClase = 10\n",
    "    testAumentoDeHorasClase(trabajador)\n",
    "    print(AlumnoAyudante.__mro__)\n",
    "\n",
    "    print(\n",
    "        f\"Ayudante es subclase de estudiante? {issubclass(AlumnoAyudante1.__class__, Estudiante)}\"\n",
    "    )\n",
    "    print(\n",
    "        f\"Ayudante es subclase de impartidor? {issubclass(AlumnoAyudante1.__class__, Impartidor)}\"\n",
    "    )\n",
    "    print(\n",
    "        f\"Ayudante es subclase de trabajador? {issubclass(AlumnoAyudante1.__class__, Trabajador)}\"\n",
    "    )\n",
    "\n",
    "    print(\n",
    "        f\"AlumnoAyudante1 recibe {AlumnoAyudante1.horasImpartirClase} horas clase\"\n",
    "    )\n",
    "    print(\n",
    "        f\"AlumnoAyudante1 imparte {AlumnoAyudante1.horasRecibirClase} horas clase\"\n",
    "    )\n",
    "    print(\n",
    "        \"Calculando el total de horas clase de AlumnoAyudante1: \", AlumnoAyudante1.calcularHorasTotales()\n",
    "    )\n",
    "   \n",
    "main()"
   ]
  },
  {
   "cell_type": "markdown",
   "metadata": {},
   "source": [
    "A pesar de que Alumno Ayudante no sea profesor, ni herede de la clase Profesor, se puede utilizar el método testImpartirClase.\n"
   ]
  },
  {
   "cell_type": "markdown",
   "metadata": {},
   "source": [
    "En Python también ocurren problemas de ambigüedad, veamos el siguiente ejemplo basando en el escenario planteado en C#:\n",
    "\n",
    "**Escenario:** Los alumnos becados tienen asignado un **bus escolar** para ellos, y los profesores tienen asignado **otro bus**,\n",
    "ambos protocolos de coger el bus **son diferentes**, pero el nombre del método es el mismo. Luego de un tiempo, la dirección decide \n",
    "que ambos grupos de personas pueden coger **el bus que deseen**, por lo que se incluye que se herede de ambas clases."
   ]
  },
  {
   "cell_type": "code",
   "execution_count": 4,
   "metadata": {},
   "outputs": [],
   "source": [
    "class CogerBus:\n",
    "    def CogerBus(self):\n",
    "        print(\"Cogiendo bus\")\n",
    "\n",
    "\n",
    "class BusProfesores(CogerBus):\n",
    "    def CogerBus(self):\n",
    "        print(\"Cogiendo bus de profesores\")\n",
    "\n",
    "\n",
    "class BusAlumnos(CogerBus):\n",
    "    def CogerBus(self):\n",
    "        print(\"Cogiendo bus de alumnos\")\n",
    "\n",
    "\n",
    "class AlumnoBecado(BusAlumnos, BusProfesores):\n",
    "    pass\n",
    "\n",
    "\n",
    "class ProfesorAfectado(BusProfesores, BusAlumnos):\n",
    "    pass"
   ]
  },
  {
   "cell_type": "markdown",
   "metadata": {},
   "source": [
    "Tenemos una situación donde ambos AlumnoBecado y ProfesorAfectado heredan de dos clases que tienen un método con el mismo nombre. En C# esto sería un error, pero en Python no lo es. Al ejecutar el siguiente código:"
   ]
  },
  {
   "cell_type": "code",
   "execution_count": 5,
   "metadata": {},
   "outputs": [
    {
     "name": "stdout",
     "output_type": "stream",
     "text": [
      "Cogiendo bus de alumnos\n",
      "Cogiendo bus de profesores\n"
     ]
    }
   ],
   "source": [
    "def mainEscenario():\n",
    "  \n",
    "    alumnoBecado = AlumnoBecado()\n",
    "    alumnoBecado.CogerBus()\n",
    "\n",
    "    profesorAfectado = ProfesorAfectado()\n",
    "    profesorAfectado.CogerBus()\n",
    "\n",
    "mainEscenario()"
   ]
  },
  {
   "cell_type": "markdown",
   "metadata": {},
   "source": [
    "En ambos casos, usan el método del cual heredaron primero. Esto se conoce como el problema del diamante, y python lo resuelve con el método de resolución de orden de prioridad de clases (MRO). Y puede traer resultados inesperados."
   ]
  },
  {
   "cell_type": "markdown",
   "metadata": {},
   "source": [
    "Si en cambio, se quiere que el método específico sea llamado, se puede hacer de la siguiente manera:\n",
    "\n",
    "```python\n",
    "class AlumnoBecado(BusAlumnos, BusProfesores):\n",
    "    CogerBus = BusProfesores.CogerBus\n",
    "```\n",
    "\n",
    "Aunque python no da error, es importante tener en cuenta que puede traer resultados inesperados, por lo que es importante tener en cuenta el orden de herencia."
   ]
  },
  {
   "cell_type": "markdown",
   "metadata": {},
   "source": [
    "## Ejemplo de Composición "
   ]
  },
  {
   "cell_type": "markdown",
   "metadata": {},
   "source": [
    "En python se puede hacer uso de la composición para evitar ciertos problemas que se presentan con la herencia múltiple."
   ]
  },
  {
   "cell_type": "code",
   "execution_count": 6,
   "metadata": {},
   "outputs": [],
   "source": [
    "class AlumnoAyudanteComposition:\n",
    "    def __init__(self, nombre, salario_profesor, salario_estudiante, horasClaseRecibidas, horasClaseImpartidas):\n",
    "        self.estudiante = Estudiante(nombre, salario_estudiante, horasClaseRecibidas)\n",
    "        self.profesor = Profesor(nombre, salario_profesor, horasClaseImpartidas)\n",
    "        self.Salario = salario_profesor + salario_estudiante\n",
    "\n",
    "    def cobrar_salario(self):\n",
    "        self.profesor.cobrar_salario()\n",
    "        self.estudiante.cobrar_salario()\n",
    "\n",
    "    def impartir_clase(self):\n",
    "        self.profesor.impartir_clases()\n",
    "\n",
    "    def recibir_clase(self):\n",
    "        self.estudiante.recibir_clases()"
   ]
  },
  {
   "cell_type": "markdown",
   "metadata": {},
   "source": [
    "Ahora tenemos un nuevo objeto que tiene comportamiento de profesor y de estudiante, y no hereda de Profesor ni de Estudiante. Puede impartir clases y a su vez recibir clases.\n"
   ]
  },
  {
   "cell_type": "code",
   "execution_count": 7,
   "metadata": {},
   "outputs": [
    {
     "name": "stdout",
     "output_type": "stream",
     "text": [
      "Cobrar salario de Alumno Ayudante 1:\n",
      "Cobrando salario\n",
      "Cobrando salario\n",
      "Ayudante es subclase de Estudiante? False\n",
      "Ayudante es subclase de Impartidor? False\n"
     ]
    }
   ],
   "source": [
    "def mainComposicion():\n",
    "\n",
    "    AlumnoAyudanteComposition1 = AlumnoAyudanteComposition(\n",
    "        \"Alumno Ayudante 1\", 5000, 200, 10, 10\n",
    "    )\n",
    "\n",
    "    print(\n",
    "        \"Cobrar salario de Alumno Ayudante 1:\"\n",
    "    )\n",
    "    AlumnoAyudanteComposition1.cobrar_salario()\n",
    "    \n",
    "    print(\n",
    "        f\"Ayudante es subclase de Estudiante? {issubclass(AlumnoAyudanteComposition, Estudiante)}\"\n",
    "    )\n",
    "    print(\n",
    "        f\"Ayudante es subclase de Impartidor? {issubclass(AlumnoAyudanteComposition, Impartidor)}\"\n",
    "    )\n",
    "\n",
    "mainComposicion()"
   ]
  },
  {
   "cell_type": "markdown",
   "metadata": {},
   "source": [
    "La Composición es una relación de \"tiene un\", y no de \"es un\", por lo que se debe tener cuidado al usarla, pues no es una subclase."
   ]
  },
  {
   "cell_type": "markdown",
   "metadata": {},
   "source": [
    "## Mixin\n",
    "\n",
    "Mixins es una forma de reutilizar código en Python. Un mixin es una clase que no se espera que se instancie, sino que se herede. Los mixins no son clases base para la herencia, sino que se utilizan para agregar funcionalidades a otras clases. Los mixins no deberían depender de la clase que los hereda, y la clase que los hereda no debería depender de ellos. Los mixins no deberían depender de otros mixins."
   ]
  },
  {
   "cell_type": "code",
   "execution_count": 8,
   "metadata": {},
   "outputs": [
    {
     "name": "stdout",
     "output_type": "stream",
     "text": [
      "Airplane is flying\n"
     ]
    }
   ],
   "source": [
    "class Vehicle:\n",
    "    def __init__(self, name):\n",
    "        self.name = name\n",
    "\n",
    "class FlyableMixin:\n",
    "    def fly(self):\n",
    "        print(f\"{self.name} is flying\")\n",
    "\n",
    "class Car(Vehicle):\n",
    "    pass\n",
    "\n",
    "class Airplane(Vehicle, FlyableMixin):\n",
    "    pass\n",
    "\n",
    "car = Car(\"Car\")\n",
    "plane = Airplane(\"Airplane\")\n",
    "\n",
    "# car.fly()  # Esto dará un error aunque Car no tiene el método fly\n",
    "plane.fly()  # Esto imprimirá \"Airplane is flying\""
   ]
  }
 ],
 "metadata": {
  "kernelspec": {
   "display_name": "base",
   "language": "python",
   "name": "python3"
  },
  "language_info": {
   "codemirror_mode": {
    "name": "ipython",
    "version": 3
   },
   "file_extension": ".py",
   "mimetype": "text/x-python",
   "name": "python",
   "nbconvert_exporter": "python",
   "pygments_lexer": "ipython3",
   "version": "3.11.5"
  }
 },
 "nbformat": 4,
 "nbformat_minor": 2
}
